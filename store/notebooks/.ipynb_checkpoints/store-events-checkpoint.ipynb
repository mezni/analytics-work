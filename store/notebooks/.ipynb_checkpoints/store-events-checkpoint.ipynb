{
 "cells": [
  {
   "cell_type": "code",
   "execution_count": 1,
   "id": "2588afe9-5f31-4850-9388-7a98828486fb",
   "metadata": {},
   "outputs": [],
   "source": [
    "from pyspark.sql import SparkSession\n",
    "from pyspark.sql.types import StructField, StructType, StringType, IntegerType, LongType\n",
    "from pyspark.sql.functions import from_json,col, to_timestamp, date_format, concat\n",
    "\n",
    "events_schema = StructType([ \n",
    "    StructField('timestamp', StringType(), True),\n",
    "    StructField('type', StringType(), True),\n",
    "    StructField('appName', StringType(), True), \n",
    "    StructField('appInstance', LongType(), True),\n",
    "    StructField('appID', StringType(), True),\n",
    "    StructField('probeID', StringType(), True),\n",
    "    StructField('eventID', StringType(), True),\n",
    "    StructField('correletionID', LongType(), True),\n",
    "    StructField('locationID', StringType(), True),\n",
    "    StructField('transactionStart', LongType(), True), \n",
    "    StructField('transactionEnd', LongType(), True), \n",
    "    StructField('transactionDuration', LongType(), True), \n",
    "    StructField('clientIPAddress', StringType(), True),\n",
    "    StructField('clientPort', IntegerType(), True), \n",
    "    StructField('serverIPAddress', StringType(), True), \n",
    "    StructField('serverPort', IntegerType(), True), \n",
    "    StructField('ipProtocol', StringType(), True), \n",
    "    StructField('category', StringType(), True), \n",
    "    StructField('bytesFromClient', LongType(), True), \n",
    "    StructField('bytesToClient', LongType(), True), \n",
    "    StructField('bytesFromServer', LongType(), True), \n",
    "    StructField('bytesToServer', LongType(), True), \n",
    "    StructField('subscriberID', StringType(), True), \n",
    "    StructField('applicationProtocol', StringType(), True), \n",
    "    StructField('applicationName', StringType(), True), \n",
    "    StructField('domain', StringType(), True), \n",
    "    StructField('deviceType', StringType(), True), \n",
    "    StructField('networkType', StringType(), True), \n",
    "    StructField('contentType', StringType(), True), \n",
    "    StructField('lostBytesClient', LongType(), True), \n",
    "    StructField('lostBytesServer', LongType(), True), \n",
    "    StructField('srttMsClient', LongType(), True), \n",
    "    StructField('srttMsServer', LongType(), True), \n",
    "])\n",
    "\n",
    "\n",
    "def get_spark_session():\n",
    "    spark = SparkSession \\\n",
    "        .builder \\\n",
    "        .appName(\"kafka 2 cassandra\") \\\n",
    "        .config(\"spark.streaming.stopGracefullyOnShutdown\", True) \\\n",
    "        .config(\"spark.jars.packages\", \"com.datastax.spark:spark-cassandra-connector_2.12:3.4.1,org.apache.spark:spark-sql-kafka-0-10_2.12:3.5.0\") \\\n",
    "        .config(\"spark.cassandra.connection.host\", \"events-db\") \\\n",
    "        .config(\"spark.cassandra.connection.port\",\"9042\")\\\n",
    "        .config(\"spark.cassandra.auth.username\", \"cassandra\") \\\n",
    "        .config(\"spark.cassandra.auth.password\", \"cassandra\") \\\n",
    "        .config(\"spark.sql.shuffle.partitions\", 4) \\\n",
    "        .master(\"spark://spark-master:7077\") \\\n",
    "        .getOrCreate()\n",
    "    return spark\n",
    "\n",
    "def init_stream(spark):\n",
    "    KAFKA_BOOTSTRAP_SERVERS = \"kafka1:19092,kafka2:19093,kafka3:19094\"\n",
    "    #KAFKA_BOOTSTRAP_SERVERS = \"172.18.0.3:9092,172.18.0.4:9093,172.18.0.5:9094\"\n",
    "    KAFKA_TOPIC = \"events\"\n",
    "    \n",
    "    df = spark.readStream.format(\"kafka\") \\\n",
    "        .option(\"kafka.bootstrap.servers\", KAFKA_BOOTSTRAP_SERVERS) \\\n",
    "        .option(\"subscribe\", KAFKA_TOPIC) \\\n",
    "        .option(\"startingOffsets\", \"earliest\") \\\n",
    "        .load()    \n",
    "    df = df.selectExpr(\"CAST(value AS STRING)\").select(from_json(col(\"value\"),events_schema).alias(\"data\")). \\\n",
    "        select(date_format(to_timestamp(\"data.transactionEnd\"),\"yyyyMMddHHmm\").alias(\"bucket\"),\n",
    "              \"data.probeID\", \"data.eventID\", \"data.locationID\", \"data.transactionStart\", \"data.transactionEnd\", \n",
    "               \"data.transactionDuration\", \"data.clientIPAddress\", \"data.clientPort\", \"data.serverIPAddress\",\n",
    "               \"data.serverPort\", \"data.ipProtocol\", \"data.category\", \"data.bytesFromClient\", \"data.bytesToClient\",\n",
    "               \"data.bytesFromServer\", \"data.bytesToServer\", \"data.subscriberID\", \"data.applicationProtocol\", \n",
    "               \"data.applicationName\", \"data.domain\", \"data.deviceType\", \"data.networkType\", \"data.contentType\",\n",
    "               \"data.lostBytesClient\", \"data.lostBytesServer\", \"data.srttMsClient\", \"data.srttMsServer\"\n",
    "              )\n",
    "    return df"
   ]
  },
  {
   "cell_type": "code",
   "execution_count": 2,
   "id": "d9207bff-7aba-43d8-99cf-bd3cfebd8298",
   "metadata": {},
   "outputs": [],
   "source": [
    "spark = get_spark_session()\n",
    "df = init_stream(spark)"
   ]
  },
  {
   "cell_type": "code",
   "execution_count": 3,
   "id": "a7a72907-dcfe-4bb6-93fc-aba08972fa17",
   "metadata": {},
   "outputs": [
    {
     "name": "stderr",
     "output_type": "stream",
     "text": [
      "ERROR:root:KeyboardInterrupt while sending command.\n",
      "Traceback (most recent call last):\n",
      "  File \"/usr/local/spark/python/lib/py4j-0.10.9.7-src.zip/py4j/java_gateway.py\", line 1038, in send_command\n",
      "    response = connection.send_command(command)\n",
      "               ^^^^^^^^^^^^^^^^^^^^^^^^^^^^^^^^\n",
      "  File \"/usr/local/spark/python/lib/py4j-0.10.9.7-src.zip/py4j/clientserver.py\", line 511, in send_command\n",
      "    answer = smart_decode(self.stream.readline()[:-1])\n",
      "                          ^^^^^^^^^^^^^^^^^^^^^^\n",
      "  File \"/opt/conda/lib/python3.11/socket.py\", line 706, in readinto\n",
      "    return self._sock.recv_into(b)\n",
      "           ^^^^^^^^^^^^^^^^^^^^^^^\n",
      "KeyboardInterrupt\n"
     ]
    },
    {
     "ename": "KeyboardInterrupt",
     "evalue": "",
     "output_type": "error",
     "traceback": [
      "\u001b[0;31m---------------------------------------------------------------------------\u001b[0m",
      "\u001b[0;31mKeyboardInterrupt\u001b[0m                         Traceback (most recent call last)",
      "Cell \u001b[0;32mIn[3], line 8\u001b[0m\n\u001b[1;32m      1\u001b[0m my_query \u001b[38;5;241m=\u001b[39m (df\u001b[38;5;241m.\u001b[39mwriteStream\n\u001b[1;32m      2\u001b[0m                   \u001b[38;5;241m.\u001b[39mformat(\u001b[38;5;124m\"\u001b[39m\u001b[38;5;124morg.apache.spark.sql.cassandra\u001b[39m\u001b[38;5;124m\"\u001b[39m)\n\u001b[1;32m      3\u001b[0m                   \u001b[38;5;241m.\u001b[39moutputMode(\u001b[38;5;124m\"\u001b[39m\u001b[38;5;124mappend\u001b[39m\u001b[38;5;124m\"\u001b[39m)\n\u001b[1;32m      4\u001b[0m                   \u001b[38;5;241m.\u001b[39moptions(table\u001b[38;5;241m=\u001b[39m\u001b[38;5;124m\"\u001b[39m\u001b[38;5;124mevents_raw\u001b[39m\u001b[38;5;124m\"\u001b[39m, keyspace\u001b[38;5;241m=\u001b[39m\u001b[38;5;124m\"\u001b[39m\u001b[38;5;124mevents\u001b[39m\u001b[38;5;124m\"\u001b[39m)\\\n\u001b[1;32m      5\u001b[0m                   \u001b[38;5;241m.\u001b[39moption(\u001b[38;5;124m\"\u001b[39m\u001b[38;5;124mcheckpointLocation\u001b[39m\u001b[38;5;124m\"\u001b[39m, \u001b[38;5;124m\"\u001b[39m\u001b[38;5;124m/tmp/checkpoint\u001b[39m\u001b[38;5;124m\"\u001b[39m)\\\n\u001b[1;32m      6\u001b[0m                   \u001b[38;5;241m.\u001b[39mstart())\n\u001b[0;32m----> 8\u001b[0m \u001b[43mmy_query\u001b[49m\u001b[38;5;241;43m.\u001b[39;49m\u001b[43mawaitTermination\u001b[49m\u001b[43m(\u001b[49m\u001b[43m)\u001b[49m\n",
      "File \u001b[0;32m/usr/local/spark/python/pyspark/sql/streaming/query.py:221\u001b[0m, in \u001b[0;36mStreamingQuery.awaitTermination\u001b[0;34m(self, timeout)\u001b[0m\n\u001b[1;32m    219\u001b[0m     \u001b[38;5;28;01mreturn\u001b[39;00m \u001b[38;5;28mself\u001b[39m\u001b[38;5;241m.\u001b[39m_jsq\u001b[38;5;241m.\u001b[39mawaitTermination(\u001b[38;5;28mint\u001b[39m(timeout \u001b[38;5;241m*\u001b[39m \u001b[38;5;241m1000\u001b[39m))\n\u001b[1;32m    220\u001b[0m \u001b[38;5;28;01melse\u001b[39;00m:\n\u001b[0;32m--> 221\u001b[0m     \u001b[38;5;28;01mreturn\u001b[39;00m \u001b[38;5;28;43mself\u001b[39;49m\u001b[38;5;241;43m.\u001b[39;49m\u001b[43m_jsq\u001b[49m\u001b[38;5;241;43m.\u001b[39;49m\u001b[43mawaitTermination\u001b[49m\u001b[43m(\u001b[49m\u001b[43m)\u001b[49m\n",
      "File \u001b[0;32m/usr/local/spark/python/lib/py4j-0.10.9.7-src.zip/py4j/java_gateway.py:1321\u001b[0m, in \u001b[0;36mJavaMember.__call__\u001b[0;34m(self, *args)\u001b[0m\n\u001b[1;32m   1314\u001b[0m args_command, temp_args \u001b[38;5;241m=\u001b[39m \u001b[38;5;28mself\u001b[39m\u001b[38;5;241m.\u001b[39m_build_args(\u001b[38;5;241m*\u001b[39margs)\n\u001b[1;32m   1316\u001b[0m command \u001b[38;5;241m=\u001b[39m proto\u001b[38;5;241m.\u001b[39mCALL_COMMAND_NAME \u001b[38;5;241m+\u001b[39m\\\n\u001b[1;32m   1317\u001b[0m     \u001b[38;5;28mself\u001b[39m\u001b[38;5;241m.\u001b[39mcommand_header \u001b[38;5;241m+\u001b[39m\\\n\u001b[1;32m   1318\u001b[0m     args_command \u001b[38;5;241m+\u001b[39m\\\n\u001b[1;32m   1319\u001b[0m     proto\u001b[38;5;241m.\u001b[39mEND_COMMAND_PART\n\u001b[0;32m-> 1321\u001b[0m answer \u001b[38;5;241m=\u001b[39m \u001b[38;5;28;43mself\u001b[39;49m\u001b[38;5;241;43m.\u001b[39;49m\u001b[43mgateway_client\u001b[49m\u001b[38;5;241;43m.\u001b[39;49m\u001b[43msend_command\u001b[49m\u001b[43m(\u001b[49m\u001b[43mcommand\u001b[49m\u001b[43m)\u001b[49m\n\u001b[1;32m   1322\u001b[0m return_value \u001b[38;5;241m=\u001b[39m get_return_value(\n\u001b[1;32m   1323\u001b[0m     answer, \u001b[38;5;28mself\u001b[39m\u001b[38;5;241m.\u001b[39mgateway_client, \u001b[38;5;28mself\u001b[39m\u001b[38;5;241m.\u001b[39mtarget_id, \u001b[38;5;28mself\u001b[39m\u001b[38;5;241m.\u001b[39mname)\n\u001b[1;32m   1325\u001b[0m \u001b[38;5;28;01mfor\u001b[39;00m temp_arg \u001b[38;5;129;01min\u001b[39;00m temp_args:\n",
      "File \u001b[0;32m/usr/local/spark/python/lib/py4j-0.10.9.7-src.zip/py4j/java_gateway.py:1038\u001b[0m, in \u001b[0;36mGatewayClient.send_command\u001b[0;34m(self, command, retry, binary)\u001b[0m\n\u001b[1;32m   1036\u001b[0m connection \u001b[38;5;241m=\u001b[39m \u001b[38;5;28mself\u001b[39m\u001b[38;5;241m.\u001b[39m_get_connection()\n\u001b[1;32m   1037\u001b[0m \u001b[38;5;28;01mtry\u001b[39;00m:\n\u001b[0;32m-> 1038\u001b[0m     response \u001b[38;5;241m=\u001b[39m \u001b[43mconnection\u001b[49m\u001b[38;5;241;43m.\u001b[39;49m\u001b[43msend_command\u001b[49m\u001b[43m(\u001b[49m\u001b[43mcommand\u001b[49m\u001b[43m)\u001b[49m\n\u001b[1;32m   1039\u001b[0m     \u001b[38;5;28;01mif\u001b[39;00m binary:\n\u001b[1;32m   1040\u001b[0m         \u001b[38;5;28;01mreturn\u001b[39;00m response, \u001b[38;5;28mself\u001b[39m\u001b[38;5;241m.\u001b[39m_create_connection_guard(connection)\n",
      "File \u001b[0;32m/usr/local/spark/python/lib/py4j-0.10.9.7-src.zip/py4j/clientserver.py:511\u001b[0m, in \u001b[0;36mClientServerConnection.send_command\u001b[0;34m(self, command)\u001b[0m\n\u001b[1;32m    509\u001b[0m \u001b[38;5;28;01mtry\u001b[39;00m:\n\u001b[1;32m    510\u001b[0m     \u001b[38;5;28;01mwhile\u001b[39;00m \u001b[38;5;28;01mTrue\u001b[39;00m:\n\u001b[0;32m--> 511\u001b[0m         answer \u001b[38;5;241m=\u001b[39m smart_decode(\u001b[38;5;28mself\u001b[39m\u001b[38;5;241m.\u001b[39mstream\u001b[38;5;241m.\u001b[39mreadline()[:\u001b[38;5;241m-\u001b[39m\u001b[38;5;241m1\u001b[39m])\n\u001b[1;32m    512\u001b[0m         logger\u001b[38;5;241m.\u001b[39mdebug(\u001b[38;5;124m\"\u001b[39m\u001b[38;5;124mAnswer received: \u001b[39m\u001b[38;5;132;01m{0}\u001b[39;00m\u001b[38;5;124m\"\u001b[39m\u001b[38;5;241m.\u001b[39mformat(answer))\n\u001b[1;32m    513\u001b[0m         \u001b[38;5;66;03m# Happens when a the other end is dead. There might be an empty\u001b[39;00m\n\u001b[1;32m    514\u001b[0m         \u001b[38;5;66;03m# answer before the socket raises an error.\u001b[39;00m\n",
      "File \u001b[0;32m/opt/conda/lib/python3.11/socket.py:706\u001b[0m, in \u001b[0;36mSocketIO.readinto\u001b[0;34m(self, b)\u001b[0m\n\u001b[1;32m    704\u001b[0m \u001b[38;5;28;01mwhile\u001b[39;00m \u001b[38;5;28;01mTrue\u001b[39;00m:\n\u001b[1;32m    705\u001b[0m     \u001b[38;5;28;01mtry\u001b[39;00m:\n\u001b[0;32m--> 706\u001b[0m         \u001b[38;5;28;01mreturn\u001b[39;00m \u001b[38;5;28;43mself\u001b[39;49m\u001b[38;5;241;43m.\u001b[39;49m\u001b[43m_sock\u001b[49m\u001b[38;5;241;43m.\u001b[39;49m\u001b[43mrecv_into\u001b[49m\u001b[43m(\u001b[49m\u001b[43mb\u001b[49m\u001b[43m)\u001b[49m\n\u001b[1;32m    707\u001b[0m     \u001b[38;5;28;01mexcept\u001b[39;00m timeout:\n\u001b[1;32m    708\u001b[0m         \u001b[38;5;28mself\u001b[39m\u001b[38;5;241m.\u001b[39m_timeout_occurred \u001b[38;5;241m=\u001b[39m \u001b[38;5;28;01mTrue\u001b[39;00m\n",
      "\u001b[0;31mKeyboardInterrupt\u001b[0m: "
     ]
    }
   ],
   "source": [
    "my_query = (df.writeStream\n",
    "                  .format(\"org.apache.spark.sql.cassandra\")\n",
    "                  .outputMode(\"append\")\n",
    "                  .options(table=\"events_raw\", keyspace=\"events\")\\\n",
    "                  .option(\"checkpointLocation\", \"/tmp/checkpoint\")\\\n",
    "                  .start())\n",
    "\n",
    "my_query.awaitTermination()"
   ]
  },
  {
   "cell_type": "code",
   "execution_count": null,
   "id": "2b415adc-11e5-4bac-9145-01945bdb986d",
   "metadata": {},
   "outputs": [],
   "source": []
  }
 ],
 "metadata": {
  "kernelspec": {
   "display_name": "Python 3 (ipykernel)",
   "language": "python",
   "name": "python3"
  },
  "language_info": {
   "codemirror_mode": {
    "name": "ipython",
    "version": 3
   },
   "file_extension": ".py",
   "mimetype": "text/x-python",
   "name": "python",
   "nbconvert_exporter": "python",
   "pygments_lexer": "ipython3",
   "version": "3.11.6"
  }
 },
 "nbformat": 4,
 "nbformat_minor": 5
}
