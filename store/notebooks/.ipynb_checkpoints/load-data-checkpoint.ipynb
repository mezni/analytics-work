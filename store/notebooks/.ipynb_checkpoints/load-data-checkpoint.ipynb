{
 "cells": [
  {
   "cell_type": "code",
   "execution_count": 3,
   "id": "c6524419-65ad-4ac1-a360-4864b53ffbbb",
   "metadata": {},
   "outputs": [],
   "source": [
    "from pyspark.sql import SparkSession\n",
    "from pyspark.sql.types import StructField, StructType, StringType, IntegerType, LongType\n",
    "from pyspark.sql.functions import from_json,col, to_timestamp, date_format, concat\n",
    "\n",
    "def get_spark_session():\n",
    "    spark = SparkSession \\\n",
    "        .builder \\\n",
    "        .appName(\"cassandra\") \\\n",
    "        .config(\"spark.streaming.stopGracefullyOnShutdown\", True) \\\n",
    "        .config(\"spark.jars.packages\", \"com.datastax.spark:spark-cassandra-connector_2.12:3.4.1\") \\\n",
    "        .config(\"spark.cassandra.connection.host\", \"events-db\") \\\n",
    "        .config(\"spark.cassandra.connection.port\",\"9042\")\\\n",
    "        .config(\"spark.cassandra.auth.username\", \"cassandra\") \\\n",
    "        .config(\"spark.cassandra.auth.password\", \"cassandra\") \\\n",
    "        .config(\"spark.sql.shuffle.partitions\", 4) \\\n",
    "        .master(\"spark://spark-master:7077\") \\\n",
    "        .getOrCreate()\n",
    "    return spark\n",
    "\n",
    "spark = get_spark_session()"
   ]
  },
  {
   "cell_type": "code",
   "execution_count": 5,
   "id": "0e83621a-6782-4589-b519-a285963dab36",
   "metadata": {},
   "outputs": [],
   "source": [
    "def read_bucket(keyspace_name,table_name,bucket):\n",
    "    bucket_df = spark.read\\\n",
    "            .format(\"org.apache.spark.sql.cassandra\")\\\n",
    "            .options(table=table_name, keyspace=keyspace_name)\\\n",
    "            .load()\\\n",
    "            .where(col(\"bucket\")==bucket)\n",
    "    return bucket_df\n",
    "bucket_df = def read_bucket(\"events\",\"events_raw\",\"202311250000\")"
   ]
  },
  {
   "cell_type": "code",
   "execution_count": 6,
   "id": "3245eacc-e794-4938-8ed1-0a5363e7deb6",
   "metadata": {},
   "outputs": [
    {
     "name": "stdout",
     "output_type": "stream",
     "text": [
      "+------------+----------------+--------------+-------------+----------------+-------------------+---------------+---------------+-------------+-------------+------------------+---------------+----------+-----------+-------------+-----------------+--------------------+----------+------------+---------------+---------------+-----------+--------------------+---------------+----------+------------+------------+-------------------+\n",
      "|      bucket|transactionStart|transactionEnd| subscriberID| applicationName|applicationProtocol|bytesFromClient|bytesFromServer|bytesToClient|bytesToServer|          category|clientIPAddress|clientPort|contentType|   deviceType|           domain|             eventID|ipProtocol|  locationID|lostBytesClient|lostBytesServer|networkType|             probeID|serverIPAddress|serverPort|srttMsClient|srttMsServer|transactionDuration|\n",
      "+------------+----------------+--------------+-------------+----------------+-------------------+---------------+---------------+-------------+-------------+------------------+---------------+----------+-----------+-------------+-----------------+--------------------+----------+------------+---------------+---------------+-----------+--------------------+---------------+----------+------------+------------+-------------------+\n",
      "|202311250000|      1700866805|    1700870405|2016828476442|        whatsapp|              quick|          29831|          63545|        63545|        29831|              voip| 251.209.111.49|     48921|      quick|    iphone 12| app.whatsapp.com|08a260d7-c30c-47d...|       udp|d26efc1df266|              0|              0|         4g|68cb7077-721a-451...|   70.131.20.76|       443|         187|         148|               3600|\n",
      "|202311250000|      1700866806|    1700870400|2016828405194|        sherazad|              https|          46055|          93919|        93919|        46055|  content upstream| 233.151.159.44|     55759|        web|        pixel|     sherazad.com|b565c15c-a4df-4ec...|       tcp|a8578822ff79|              0|              0|         4g|68cb7077-721a-451...| 212.104.72.170|       443|         115|         766|               3594|\n",
      "|202311250000|      1700866806|    1700870404|2016828382090|        facebook|              https|          33680|          48392|        48392|        33680|      social media|  103.53.61.112|     51894|        web|        pixel|     facebook.com|977d1b0a-ba40-4b4...|       tcp|fa42d87f50f1|              0|              0|         4g|68cb7077-721a-451...| 128.117.242.98|       443|         469|         327|               3598|\n",
      "|202311250000|      1700866808|    1700870406|2016828986407|       instagram|              https|           3089|          44765|        44765|         3089|      social media|193.133.176.214|     23539|        web|iphone 15 pro|    instagram.com|ad80e63d-a0c9-446...|       tcp|ac66a443a027|              0|              0|         3g|68cb7077-721a-451...|   160.94.195.6|       443|         362|         314|               3598|\n",
      "|202311250000|      1700866812|    1700870407|2016828495296|         netflix|              quick|          11972|            628|          628|        11972|             video|117.172.215.170|     45450|      quick|   blackberry|  app.netflix.com|74f8062f-18ce-427...|       udp|83b2dc4207e7|              0|              0|         2g|68cb7077-721a-451...|  44.50.186.219|       443|         394|          24|               3595|\n",
      "|202311250000|      1700866812|    1700870411|2016828825628|            mail|               icmp|           5368|          77715|        77715|         5368|  content upstream|  79.139.175.92|      9416|        web|  samsung s22|  mail.google.com|e1e300e1-9b5f-4e2...|       udp|7bb040c9e0ec|              0|              0|         2g|68cb7077-721a-451...|  158.104.95.96|       443|          63|           7|               3599|\n",
      "|202311250000|      1700866813|    1700870403|2016828854411|        whatsapp|              quick|          15457|          86122|        86122|        15457|              voip|   1.129.80.167|     38309|      quick|    iphone 12| app.whatsapp.com|fa40a812-bb62-416...|       udp|b8599686a6cf|              0|              0|         5g|68cb7077-721a-451...|  246.33.20.215|       443|         396|         242|               3590|\n",
      "|202311250000|      1700866813|    1700870409|2016828702588|         youtube|              quick|          37185|         100257|       100257|        37185|             video| 153.240.219.67|     26879|      quick|       xioami|  app.youtube.com|3bb9f3ad-0c8d-460...|       udp|12b3723ac7c5|              0|              0|          -|68cb7077-721a-451...|  254.215.25.12|       443|         575|         372|               3596|\n",
      "|202311250000|      1700866813|    1700870411|2016828850135|         youtube|              quick|          41979|          91125|        91125|        41979|             video| 239.29.106.141|     11221|      quick|    iphone 12|  app.youtube.com|da93d5f7-9d91-424...|       udp|171a9ffb8a20|              0|              0|         2g|68cb7077-721a-451...| 64.117.144.248|       443|         433|         352|               3598|\n",
      "|202311250000|      1700866814|    1700870402|2016828365750|          signal|              quick|          41931|          89214|        89214|        41931|              voip|   79.83.246.22|     57059|      quick|iphone 15 pro|   app.signal.com|4f5b837e-3c60-428...|       udp|5e4ae84ab5a7|              0|              0|         3g|68cb7077-721a-451...| 24.201.182.234|       443|          15|         363|               3588|\n",
      "|202311250000|      1700866814|    1700870410|2016828107431|          signal|              quick|          14135|          70642|        70642|        14135|              voip|201.134.251.116|      5956|      quick|       xioami|   app.signal.com|1a68a9c6-1ff9-478...|       udp|7a264a01158a|              0|              0|          -|68cb7077-721a-451...| 24.201.182.234|       443|         102|         189|               3596|\n",
      "|202311250000|      1700866815|    1700870409|2016828394502|microsoft update|              https|          40028|          85461|        85461|        40028|content downstream|  203.158.0.177|     27152|        web|    motorolla|app.microsoft.com|66977303-a306-4a0...|       tcp|f1599ede165b|              0|              0|         4g|68cb7077-721a-451...|   80.85.89.181|       443|         181|          45|               3594|\n",
      "|202311250000|      1700866816|    1700870403|2016828791465|            xbox|              quick|          25903|          38396|        38396|        25903|            gaming|  91.80.102.235|     19656|        web|  samsung s23|     app.xbox.com|42b4bc4b-fb3e-4a1...|       udp|e006f94a216c|            588|             69|         5g|68cb7077-721a-451...|  48.25.229.221|       443|         201|          27|               3587|\n",
      "|202311250000|      1700866816|    1700870405|2016828566228|        whatsapp|              quick|          49472|          55393|        55393|        49472|              voip|  193.45.48.220|     63529|      quick|  samsung s23| app.whatsapp.com|5fb09d29-5839-46f...|       udp|743de1396a40|              0|              0|          -|68cb7077-721a-451...|218.245.107.145|       443|         718|         578|               3589|\n",
      "|202311250000|      1700866817|    1700870415|2016828143392|          edonky|              https|          29073|          53112|        53112|        29073|  content upstream|  23.61.235.104|     18276|        web|   blackberry|       edonky.com|d742121d-8ab5-4a7...|       tcp|d51b7e2e905f|              0|              0|         4g|68cb7077-721a-451...| 196.84.166.202|       443|         244|         285|               3598|\n",
      "|202311250000|      1700866818|    1700870400|2016828518620|               -|               http|          15598|           4940|         4940|        15598|                 -| 101.57.196.173|     15038|        web|   blackberry|                -|98197d84-556a-47c...|       tcp|3983604977d8|              0|              0|         3g|68cb7077-721a-451...|  148.76.92.187|       443|          55|         337|               3582|\n",
      "|202311250000|      1700866818|    1700870404|2016828912210|        nintindo|              quick|          12313|          15569|        15569|        12313|            gaming|   183.2.26.142|     27618|        web|      samsung| app.nintindo.com|39a7372d-973f-451...|       udp|1d7a319c5da3|              0|              0|         4g|68cb7077-721a-451...| 54.217.161.200|       443|         158|          62|               3586|\n",
      "|202311250000|      1700866818|    1700870407|2016828357945|         netflix|              quick|          29266|          43318|        43318|        29266|             video| 197.114.129.91|     38504|      quick|    iphone 13|  app.netflix.com|9c2b5091-db2e-4ab...|       udp|230b8a4cab64|              0|              0|         2g|68cb7077-721a-451...|  44.50.186.219|       443|         302|         331|               3589|\n",
      "|202311250000|      1700866818|    1700870417|2016828139101|             tor|              https|          50669|          13718|        13718|        50669|  content upstream|  79.228.243.31|     12539|        web|   blackberry|          tor.com|00517e03-25c2-410...|       tcp|0999e90f8b8d|              0|              0|         4g|68cb7077-721a-451...|230.188.242.212|       443|         500|         180|               3599|\n",
      "|202311250000|      1700866819|    1700870401|2016828473768|microsoft update|              https|          25975|         100872|       100872|        25975|content downstream|    29.8.215.61|      9883|        web|    iphone 13|app.microsoft.com|9c2a6e89-2b3a-45e...|       tcp|af177068a06f|              0|              0|         5g|68cb7077-721a-451...| 112.34.251.106|       443|         105|         277|               3582|\n",
      "+------------+----------------+--------------+-------------+----------------+-------------------+---------------+---------------+-------------+-------------+------------------+---------------+----------+-----------+-------------+-----------------+--------------------+----------+------------+---------------+---------------+-----------+--------------------+---------------+----------+------------+------------+-------------------+\n",
      "only showing top 20 rows\n",
      "\n"
     ]
    }
   ],
   "source": [
    "table_df.show()"
   ]
  },
  {
   "cell_type": "code",
   "execution_count": null,
   "id": "452d7dcd-494e-4060-9eea-12f352430196",
   "metadata": {},
   "outputs": [],
   "source": []
  }
 ],
 "metadata": {
  "kernelspec": {
   "display_name": "Python 3 (ipykernel)",
   "language": "python",
   "name": "python3"
  },
  "language_info": {
   "codemirror_mode": {
    "name": "ipython",
    "version": 3
   },
   "file_extension": ".py",
   "mimetype": "text/x-python",
   "name": "python",
   "nbconvert_exporter": "python",
   "pygments_lexer": "ipython3",
   "version": "3.11.6"
  }
 },
 "nbformat": 4,
 "nbformat_minor": 5
}
