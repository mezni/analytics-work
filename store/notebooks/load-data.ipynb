{
 "cells": [
  {
   "cell_type": "code",
   "execution_count": 20,
   "id": "c6524419-65ad-4ac1-a360-4864b53ffbbb",
   "metadata": {},
   "outputs": [],
   "source": [
    "from pyspark.sql import SparkSession\n",
    "#from pyspark.sql.types import StructField, StructType, StringType, IntegerType, LongType\n",
    "#from pyspark.sql.functions import from_json,col, to_timestamp, date_format, concat, count\n",
    "import pyspark.sql.functions as F\n",
    "\n",
    "def get_spark_session():\n",
    "    spark = SparkSession \\\n",
    "        .builder \\\n",
    "        .appName(\"cassandra\") \\\n",
    "        .config(\"spark.streaming.stopGracefullyOnShutdown\", True) \\\n",
    "        .config(\"spark.jars.packages\", \"com.datastax.spark:spark-cassandra-connector_2.12:3.4.1\") \\\n",
    "        .config(\"spark.cassandra.connection.host\", \"events-db\") \\\n",
    "        .config(\"spark.cassandra.connection.port\",\"9042\")\\\n",
    "        .config(\"spark.cassandra.auth.username\", \"cassandra\") \\\n",
    "        .config(\"spark.cassandra.auth.password\", \"cassandra\") \\\n",
    "        .config(\"spark.sql.shuffle.partitions\", 4) \\\n",
    "        .master(\"spark://spark-master:7077\") \\\n",
    "        .getOrCreate()\n",
    "    return spark\n",
    "\n",
    "\n",
    "def read_bucket(keyspace_name, table_name, bucket_name):\n",
    "    bucket_df = spark.read\\\n",
    "            .format(\"org.apache.spark.sql.cassandra\")\\\n",
    "            .options(table=table_name, keyspace=keyspace_name)\\\n",
    "            .load()\\\n",
    "            .where(col(\"bucket\")==bucket_name)\n",
    "    return bucket_df"
   ]
  },
  {
   "cell_type": "code",
   "execution_count": 21,
   "id": "0e83621a-6782-4589-b519-a285963dab36",
   "metadata": {},
   "outputs": [],
   "source": [
    "spark = get_spark_session()"
   ]
  },
  {
   "cell_type": "code",
   "execution_count": 22,
   "id": "942100e4-c35a-4b28-96d1-8394c69ff115",
   "metadata": {},
   "outputs": [],
   "source": [
    "bucket_df = read_bucket(\"events\", \"events_raw\", \"202311250000\")\n",
    "#sessions_count = bucket_df.count()"
   ]
  },
  {
   "cell_type": "markdown",
   "id": "2ddabeef-6cb3-4251-aed8-9f2509813e60",
   "metadata": {},
   "source": [
    "## agg by dimensions"
   ]
  },
  {
   "cell_type": "code",
   "execution_count": 30,
   "id": "3245eacc-e794-4938-8ed1-0a5363e7deb6",
   "metadata": {},
   "outputs": [
    {
     "name": "stdout",
     "output_type": "stream",
     "text": [
      "+--------+-------------------+---------------+----------------+-----------+-----------+-----------+---+---------------+-------------+---------------+-------------+---------------+---------------+------------+------------+\n",
      "|category|applicationProtocol|applicationName|          domain| deviceType|networkType|contentType|ccc|bytesFromClient|bytesToClient|bytesFromServer|bytesToServer|lostBytesClient|lostBytesServer|srttMsClient|srttMsServer|\n",
      "+--------+-------------------+---------------+----------------+-----------+-----------+-----------+---+---------------+-------------+---------------+-------------+---------------+---------------+------------+------------+\n",
      "|    voip|              quick|       whatsapp|app.whatsapp.com|  iphone 12|         4g|      quick|133|         405021|      1039825|        1039825|       405021|              1|              6|       35639|       38837|\n",
      "|    voip|              quick|       whatsapp|app.whatsapp.com|  iphone 12|         5g|      quick|117|         461044|       907300|         907300|       461044|             16|             13|       32408|       35162|\n",
      "|    voip|              quick|         signal|  app.signal.com|     xioami|          -|      quick| 56|         121998|       283213|         283213|       121998|              0|              0|       15321|       15064|\n",
      "|  gaming|              quick|           xbox|    app.xbox.com|samsung s23|         5g|        web|115|         253757|       601805|         601805|       253757|            799|            148|       27114|       29920|\n",
      "+--------+-------------------+---------------+----------------+-----------+-----------+-----------+---+---------------+-------------+---------------+-------------+---------------+---------------+------------+------------+\n",
      "only showing top 4 rows\n",
      "\n"
     ]
    }
   ],
   "source": [
    "dimensions = [\"category\", \"applicationProtocol\", \"applicationName\",\"domain\",\"deviceType\",\"networkType\",\"contentType\"]\n",
    "bucket_df.groupBy(dimensions)\\\n",
    "    .agg(F.count(\"*\").alias(\"ccc\"),\\\n",
    "    F.sum(\"bytesFromClient\").alias(\"bytesFromClient\"),\\\n",
    "    F.sum(\"bytesToClient\").alias(\"bytesToClient\"),\\\n",
    "    F.sum(\"bytesFromServer\").alias(\"bytesFromServer\"),\\\n",
    "    F.sum(\"bytesToServer\").alias(\"bytesToServer\"),\\\n",
    "    F.sum(\"lostBytesClient\").alias(\"lostBytesClient\"),\\\n",
    "    F.sum(\"lostBytesServer\").alias(\"lostBytesServer\"),\\\n",
    "    F.sum(\"srttMsClient\").alias(\"srttMsClient\"),\\\n",
    "    F.sum(\"srttMsServer\").alias(\"srttMsServer\"))\\\n",
    "    .show(4)"
   ]
  },
  {
   "cell_type": "markdown",
   "id": "2884b84e-f280-4757-bf32-f2be855a593f",
   "metadata": {},
   "source": [
    "## agg by subscriber"
   ]
  },
  {
   "cell_type": "code",
   "execution_count": 31,
   "id": "7df29890-63ee-4c6f-8a8f-c8cabee40b53",
   "metadata": {},
   "outputs": [
    {
     "name": "stdout",
     "output_type": "stream",
     "text": [
      "+-------------+---+---------------+-------------+---------------+-------------+---------------+---------------+------------+------------+\n",
      "| subscriberID|ccc|bytesFromClient|bytesToClient|bytesFromServer|bytesToServer|lostBytesClient|lostBytesServer|srttMsClient|srttMsServer|\n",
      "+-------------+---+---------------+-------------+---------------+-------------+---------------+---------------+------------+------------+\n",
      "|2016828382090| 33|         220708|       339893|         339893|       220708|              0|              0|        9085|        9896|\n",
      "|2016828854411| 22|          88676|       356435|         356435|        88676|              0|              0|        6446|        5848|\n",
      "|2016828850135| 24|         139559|       298831|         298831|       139559|             20|              0|        6908|        7706|\n",
      "|2016828107431| 21|          75490|       215228|         215228|        75490|              0|              0|        5626|        5746|\n",
      "+-------------+---+---------------+-------------+---------------+-------------+---------------+---------------+------------+------------+\n",
      "only showing top 4 rows\n",
      "\n"
     ]
    }
   ],
   "source": [
    "dimensions = [\"subscriberID\"]\n",
    "bucket_df.groupBy(dimensions)\\\n",
    "    .agg(F.count(\"*\").alias(\"ccc\"),\\\n",
    "    F.sum(\"bytesFromClient\").alias(\"bytesFromClient\"),\\\n",
    "    F.sum(\"bytesToClient\").alias(\"bytesToClient\"),\\\n",
    "    F.sum(\"bytesFromServer\").alias(\"bytesFromServer\"),\\\n",
    "    F.sum(\"bytesToServer\").alias(\"bytesToServer\"),\\\n",
    "    F.sum(\"lostBytesClient\").alias(\"lostBytesClient\"),\\\n",
    "    F.sum(\"lostBytesServer\").alias(\"lostBytesServer\"),\\\n",
    "    F.sum(\"srttMsClient\").alias(\"srttMsClient\"),\\\n",
    "    F.sum(\"srttMsServer\").alias(\"srttMsServer\"))\\\n",
    "    .show(4)"
   ]
  },
  {
   "cell_type": "markdown",
   "id": "aa7c7cb6-1824-4d00-b061-73309f0d46a6",
   "metadata": {},
   "source": [
    "## agg by location"
   ]
  },
  {
   "cell_type": "code",
   "execution_count": 33,
   "id": "c45ddaa5-091b-4cda-b474-fc9a04bcb19e",
   "metadata": {},
   "outputs": [
    {
     "name": "stdout",
     "output_type": "stream",
     "text": [
      "+------------+---+---------------+-------------+---------------+-------------+---------------+---------------+------------+------------+\n",
      "|  locationID|ccc|bytesFromClient|bytesToClient|bytesFromServer|bytesToServer|lostBytesClient|lostBytesServer|srttMsClient|srttMsServer|\n",
      "+------------+---+---------------+-------------+---------------+-------------+---------------+---------------+------------+------------+\n",
      "|171a9ffb8a20|204|         753559|      1317422|        1317422|       753559|             89|             45|       54926|       56172|\n",
      "|7a264a01158a|204|         927710|      1825999|        1825999|       927710|            636|            532|       58644|       56611|\n",
      "|743de1396a40|212|         635221|      1226056|        1226056|       635221|             42|             30|       58708|       58607|\n",
      "|620ad605906f|178|         613630|       925699|         925699|       613630|            792|            230|       50013|       44749|\n",
      "+------------+---+---------------+-------------+---------------+-------------+---------------+---------------+------------+------------+\n",
      "only showing top 4 rows\n",
      "\n"
     ]
    }
   ],
   "source": [
    "dimensions = [\"locationID\"]\n",
    "bucket_df.groupBy(dimensions)\\\n",
    "    .agg(F.count(\"*\").alias(\"ccc\"),\\\n",
    "    F.sum(\"bytesFromClient\").alias(\"bytesFromClient\"),\\\n",
    "    F.sum(\"bytesToClient\").alias(\"bytesToClient\"),\\\n",
    "    F.sum(\"bytesFromServer\").alias(\"bytesFromServer\"),\\\n",
    "    F.sum(\"bytesToServer\").alias(\"bytesToServer\"),\\\n",
    "    F.sum(\"lostBytesClient\").alias(\"lostBytesClient\"),\\\n",
    "    F.sum(\"lostBytesServer\").alias(\"lostBytesServer\"),\\\n",
    "    F.sum(\"srttMsClient\").alias(\"srttMsClient\"),\\\n",
    "    F.sum(\"srttMsServer\").alias(\"srttMsServer\"))\\\n",
    "    .show(4)"
   ]
  },
  {
   "cell_type": "markdown",
   "id": "d6615d37-6ea2-4104-9224-6e4c40ccdb3f",
   "metadata": {},
   "source": [
    "## aggregation by all"
   ]
  },
  {
   "cell_type": "code",
   "execution_count": 34,
   "id": "4ab20698-67c2-44c4-8f42-68a1e3cf60ef",
   "metadata": {},
   "outputs": [
    {
     "name": "stdout",
     "output_type": "stream",
     "text": [
      "+-------------+------------+----------------+-------------------+---------------+----------------+-------------+-----------+-----------+---+---------------+-------------+---------------+-------------+---------------+---------------+------------+------------+\n",
      "| subscriberID|  locationID|        category|applicationProtocol|applicationName|          domain|   deviceType|networkType|contentType|ccc|bytesFromClient|bytesToClient|bytesFromServer|bytesToServer|lostBytesClient|lostBytesServer|srttMsClient|srttMsServer|\n",
      "+-------------+------------+----------------+-------------------+---------------+----------------+-------------+-----------+-----------+---+---------------+-------------+---------------+-------------+---------------+---------------+------------+------------+\n",
      "|2016828476442|d26efc1df266|            voip|              quick|       whatsapp|app.whatsapp.com|    iphone 12|         4g|      quick|  1|          29831|        63545|          63545|        29831|              0|              0|         187|         148|\n",
      "|2016828405194|a8578822ff79|content upstream|              https|       sherazad|    sherazad.com|        pixel|         4g|        web|  1|          46055|        93919|          93919|        46055|              0|              0|         115|         766|\n",
      "|2016828986407|ac66a443a027|    social media|              https|      instagram|   instagram.com|iphone 15 pro|         3g|        web|  1|           3089|        44765|          44765|         3089|              0|              0|         362|         314|\n",
      "|2016828495296|83b2dc4207e7|           video|              quick|        netflix| app.netflix.com|   blackberry|         2g|      quick|  1|          11972|          628|            628|        11972|              0|              0|         394|          24|\n",
      "+-------------+------------+----------------+-------------------+---------------+----------------+-------------+-----------+-----------+---+---------------+-------------+---------------+-------------+---------------+---------------+------------+------------+\n",
      "only showing top 4 rows\n",
      "\n"
     ]
    }
   ],
   "source": [
    "dimensions = [\"subscriberID\", \"locationID\", \"category\", \"applicationProtocol\", \"applicationName\",\"domain\",\"deviceType\",\"networkType\",\"contentType\"]\n",
    "bucket_df.groupBy(dimensions)\\\n",
    "    .agg(F.count(\"*\").alias(\"ccc\"),\\\n",
    "    F.sum(\"bytesFromClient\").alias(\"bytesFromClient\"),\\\n",
    "    F.sum(\"bytesToClient\").alias(\"bytesToClient\"),\\\n",
    "    F.sum(\"bytesFromServer\").alias(\"bytesFromServer\"),\\\n",
    "    F.sum(\"bytesToServer\").alias(\"bytesToServer\"),\\\n",
    "    F.sum(\"lostBytesClient\").alias(\"lostBytesClient\"),\\\n",
    "    F.sum(\"lostBytesServer\").alias(\"lostBytesServer\"),\\\n",
    "    F.sum(\"srttMsClient\").alias(\"srttMsClient\"),\\\n",
    "    F.sum(\"srttMsServer\").alias(\"srttMsServer\"))\\\n",
    "    .show(4)"
   ]
  },
  {
   "cell_type": "code",
   "execution_count": null,
   "id": "7413da7a-ccca-4f0f-a8a7-72aa573d2fd9",
   "metadata": {},
   "outputs": [],
   "source": []
  }
 ],
 "metadata": {
  "kernelspec": {
   "display_name": "Python 3 (ipykernel)",
   "language": "python",
   "name": "python3"
  },
  "language_info": {
   "codemirror_mode": {
    "name": "ipython",
    "version": 3
   },
   "file_extension": ".py",
   "mimetype": "text/x-python",
   "name": "python",
   "nbconvert_exporter": "python",
   "pygments_lexer": "ipython3",
   "version": "3.11.6"
  }
 },
 "nbformat": 4,
 "nbformat_minor": 5
}
